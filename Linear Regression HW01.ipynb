{
 "cells": [
  {
   "cell_type": "code",
   "execution_count": 6,
   "id": "003668e8",
   "metadata": {},
   "outputs": [],
   "source": [
    "import numpy as np\n",
    "import matplotlib.pyplot as plt\n",
    "%matplotlib inline"
   ]
  },
  {
   "cell_type": "code",
   "execution_count": 16,
   "id": "2e556a22",
   "metadata": {
    "scrolled": true
   },
   "outputs": [
    {
     "data": {
      "image/png": "[encoded data removed]",
      "text/plain": [
       "<Figure size 432x288 with 1 Axes>"
      ]
     },
     "metadata": {
      "needs_background": "light"
     },
     "output_type": "display_data"
    }
   ],
   "source": [
    "n = 10\n",
    "x = range(n)\n",
    "x2 = range(n+10,n+20)\n",
    "\n",
    "x_train = np.array(x, dtype=np.float32) # float32 customary in ML big data\n",
    "x_train = x_train.reshape(-1, 1)        # Change from vector to 2-d array\n",
    "x_train2 = np.array(x, dtype=np.float32) \n",
    "x_train2 = x_train2.reshape(-1, 1)        \n",
    "c1 = -2.                      # to make it random: np.random.randn()\n",
    "c2 = 1.                       # to make it random: np.random.randn()\n",
    "c3 = 4.\n",
    "y_train = c1*x_train + c2*x_train2 + c3\n",
    "y_train = np.array(y_train + np.random.randn(n,1), dtype=np.float32)\n",
    "\n",
    "plt.scatter(x_train, y_train)\n",
    "plt.xlabel(\"x\")\n",
    "plt.ylabel(\"Y\")\n",
    "plt.title(\"Original data\")\n",
    "plt.plot(x_train, c1*x_train+c2)\n",
    "plt.show()"
   ]
  },
  {
   "cell_type": "code",
   "execution_count": 18,
   "id": "a8c041ed",
   "metadata": {},
   "outputs": [
    {
     "data": {
      "text/plain": [
       "(tensor(-0.4956), tensor(-0.4956), tensor(3.7567))"
      ]
     },
     "execution_count": 18,
     "metadata": {},
     "output_type": "execute_result"
    },
    {
     "data": {
      "image/png": "[encoded data removed]",
      "text/plain": [
       "<Figure size 432x288 with 1 Axes>"
      ]
     },
     "metadata": {
      "needs_background": "light"
     },
     "output_type": "display_data"
    }
   ],
   "source": [
    "import torch\n",
    "import torch.nn as nn\n",
    "from torch.autograd import Variable\n",
    "\n",
    "def forward(x,x2):                      # forward pass: use model to predict outputs\n",
    "  return w1*x + w2*x2 + b\n",
    "\n",
    "def criterion(yhat,y):                    # mean square error\n",
    "  return torch.mean((yhat-y)**2)\n",
    "\n",
    "LOSS = []\n",
    "lr = 0.01\n",
    "w1 = torch.tensor(0., requires_grad=True) # data parameters with initial guess\n",
    "w2 = torch.tensor(0., requires_grad=True) # data parameters with initial guess\n",
    "b = torch.tensor(-0.5, requires_grad=True)\n",
    "x_traint = torch.tensor(x_train) # convert to pytorch tensors\n",
    "x_train2t = torch.tensor(x_train2) # convert to pytorch tensors\n",
    "y_traint = torch.tensor(y_train)\n",
    "\n",
    "def train_model(iter):\n",
    "    \n",
    "    # Loop\n",
    "    for epoch in range(iter):\n",
    "        \n",
    "        # make a prediction\n",
    "        Yhat = forward(x_traint,x_train2t)\n",
    "        \n",
    "        # calculate the loss, where criterion is mean-square error (see above)\n",
    "        loss = criterion(Yhat, y_traint)\n",
    "            \n",
    "        # store the loss in the list LOSS\n",
    "        LOSS.append(loss.detach()) # detach lets Python deal w/ Pytorch tensors\n",
    "        \n",
    "        # backward pass, find gradient of loss wrt parameters\n",
    "        loss.backward()\n",
    "        \n",
    "        # Stochastic gradient descent: update parameters slope and bias\n",
    "        w1.data = w1.data - lr * w1.grad.data\n",
    "        w2.data = w2.data - lr * w2.grad.data\n",
    "        b.data = b.data - lr * b.grad.data\n",
    "        \n",
    "        # zero the gradients before running the backward pass\n",
    "        w1.grad.data.zero_()\n",
    "        w2.grad.data.zero_()\n",
    "        b.grad.data.zero_()\n",
    "\n",
    "train_model(500)\n",
    "plt.plot(LOSS)\n",
    "plt.xlabel(\"iteration\")\n",
    "plt.ylabel(\"loss\")\n",
    "plt.title(\"loss during training\")\n",
    "w1.detach(), w2.detach(), b.detach()"
   ]
  },
  {
   "cell_type": "code",
   "execution_count": null,
   "id": "e704ae5b",
   "metadata": {},
   "outputs": [],
   "source": []
  }
 ],
 "metadata": {
  "kernelspec": {
   "display_name": "Python 3 (ipykernel)",
   "language": "python",
   "name": "python3"
  },
  "language_info": {
   "codemirror_mode": {
    "name": "ipython",
    "version": 3
   },
   "file_extension": ".py",
   "mimetype": "text/x-python",
   "name": "python",
   "nbconvert_exporter": "python",
   "pygments_lexer": "ipython3",
   "version": "3.9.12"
  }
 },
 "nbformat": 4,
 "nbformat_minor": 5
}
